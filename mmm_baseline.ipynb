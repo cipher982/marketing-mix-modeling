{
 "cells": [
  {
   "cell_type": "code",
   "execution_count": 1,
   "id": "e16a99ac-bb88-4527-82dc-49cffbbde693",
   "metadata": {
    "execution": {
     "iopub.execute_input": "2021-06-22T17:56:39.598179Z",
     "iopub.status.busy": "2021-06-22T17:56:39.597982Z",
     "iopub.status.idle": "2021-06-22T17:56:40.514740Z",
     "shell.execute_reply": "2021-06-22T17:56:40.514127Z",
     "shell.execute_reply.started": "2021-06-22T17:56:39.598134Z"
    }
   },
   "outputs": [],
   "source": [
    "import warnings\n",
    "warnings.filterwarnings(\"ignore\")\n",
    "\n",
    "import numpy as np\n",
    "import pandas as pd\n",
    "import sys\n",
    "import time\n",
    "from datetime import datetime\n",
    "from datetime import timedelta\n",
    "import matplotlib.pyplot as plt\n",
    "import seaborn as sns\n",
    "# get_ipython().run_line_magic('matplotlib', 'inline')\n",
    "\n",
    "sns.color_palette(\"husl\")\n",
    "sns.set_style('darkgrid')\n",
    "\n",
    "import pystan\n",
    "import os\n",
    "from sklearn.metrics import mean_squared_error\n",
    "import json\n",
    "import funcs\n",
    "\n",
    "%load_ext autoreload\n",
    "\n",
    "%autoreload 2"
   ]
  },
  {
   "cell_type": "code",
   "execution_count": 2,
   "id": "c897e2a2-f555-4c70-8101-ab238f45dee9",
   "metadata": {
    "execution": {
     "iopub.execute_input": "2021-06-22T17:57:39.732556Z",
     "iopub.status.busy": "2021-06-22T17:57:39.732372Z",
     "iopub.status.idle": "2021-06-22T17:57:39.764851Z",
     "shell.execute_reply": "2021-06-22T17:57:39.764277Z",
     "shell.execute_reply.started": "2021-06-22T17:57:39.732538Z"
    }
   },
   "outputs": [
    {
     "data": {
      "text/html": [
       "<div>\n",
       "<style scoped>\n",
       "    .dataframe tbody tr th:only-of-type {\n",
       "        vertical-align: middle;\n",
       "    }\n",
       "\n",
       "    .dataframe tbody tr th {\n",
       "        vertical-align: top;\n",
       "    }\n",
       "\n",
       "    .dataframe thead th {\n",
       "        text-align: right;\n",
       "    }\n",
       "</style>\n",
       "<table border=\"1\" class=\"dataframe\">\n",
       "  <thead>\n",
       "    <tr style=\"text-align: right;\">\n",
       "      <th></th>\n",
       "      <th>day</th>\n",
       "      <th>conversion_type</th>\n",
       "      <th>channel</th>\n",
       "      <th>segment</th>\n",
       "      <th>tactic</th>\n",
       "      <th>lookup_type</th>\n",
       "      <th>spend</th>\n",
       "      <th>impressions</th>\n",
       "      <th>clicks</th>\n",
       "    </tr>\n",
       "  </thead>\n",
       "  <tbody>\n",
       "    <tr>\n",
       "      <th>0</th>\n",
       "      <td>6/1/18</td>\n",
       "      <td>New Buyers</td>\n",
       "      <td>Search</td>\n",
       "      <td>Prospects</td>\n",
       "      <td>Google - Search - UAC</td>\n",
       "      <td>AdWords Campaign Performance</td>\n",
       "      <td>704.07</td>\n",
       "      <td>5734.0</td>\n",
       "      <td>163.0</td>\n",
       "    </tr>\n",
       "    <tr>\n",
       "      <th>1</th>\n",
       "      <td>6/2/18</td>\n",
       "      <td>New Buyers</td>\n",
       "      <td>Search</td>\n",
       "      <td>Prospects</td>\n",
       "      <td>Google - Search - UAC</td>\n",
       "      <td>AdWords Campaign Performance</td>\n",
       "      <td>993.28</td>\n",
       "      <td>8592.0</td>\n",
       "      <td>224.0</td>\n",
       "    </tr>\n",
       "  </tbody>\n",
       "</table>\n",
       "</div>"
      ],
      "text/plain": [
       "      day conversion_type channel    segment                 tactic  \\\n",
       "0  6/1/18      New Buyers  Search  Prospects  Google - Search - UAC   \n",
       "1  6/2/18      New Buyers  Search  Prospects  Google - Search - UAC   \n",
       "\n",
       "                    lookup_type   spend  impressions  clicks  \n",
       "0  AdWords Campaign Performance  704.07       5734.0   163.0  \n",
       "1  AdWords Campaign Performance  993.28       8592.0   224.0  "
      ]
     },
     "execution_count": 2,
     "metadata": {},
     "output_type": "execute_result"
    }
   ],
   "source": [
    "# Load measured data\n",
    "m_df = pd.read_csv(\"../drizly_mmm/data/measured_ad_channel_data.csv\")\n",
    "m_df = m_df[m_df[\"channel\"] != \"Congrats  YOU FOUND ME!!!!\"]\n",
    "m_df.head(2)"
   ]
  },
  {
   "cell_type": "code",
   "execution_count": 11,
   "id": "df2f089e-4581-4896-96f7-2c7493d4a380",
   "metadata": {
    "execution": {
     "iopub.execute_input": "2021-06-22T18:07:50.237262Z",
     "iopub.status.busy": "2021-06-22T18:07:50.237076Z",
     "iopub.status.idle": "2021-06-22T18:07:52.560820Z",
     "shell.execute_reply": "2021-06-22T18:07:52.560243Z",
     "shell.execute_reply.started": "2021-06-22T18:07:50.237227Z"
    },
    "tags": []
   },
   "outputs": [
    {
     "data": {
      "text/html": [
       "<div>\n",
       "<style scoped>\n",
       "    .dataframe tbody tr th:only-of-type {\n",
       "        vertical-align: middle;\n",
       "    }\n",
       "\n",
       "    .dataframe tbody tr th {\n",
       "        vertical-align: top;\n",
       "    }\n",
       "\n",
       "    .dataframe thead th {\n",
       "        text-align: right;\n",
       "    }\n",
       "</style>\n",
       "<table border=\"1\" class=\"dataframe\">\n",
       "  <thead>\n",
       "    <tr style=\"text-align: right;\">\n",
       "      <th></th>\n",
       "      <th>ORDER_DATE</th>\n",
       "      <th>NEW_VS_RETURNING</th>\n",
       "      <th>DELIVERY_STATE</th>\n",
       "      <th>FULFILLMENT_TYPE</th>\n",
       "      <th>DMA_NAME</th>\n",
       "      <th>DEVICE_PLATFORM</th>\n",
       "      <th>PROMO_USAGE</th>\n",
       "      <th>GIFT_STATUS</th>\n",
       "      <th>PROMO_VALUE</th>\n",
       "      <th>TOTAL_ORDERS</th>\n",
       "      <th>PRODUCT_SUBTOTAL</th>\n",
       "    </tr>\n",
       "  </thead>\n",
       "  <tbody>\n",
       "    <tr>\n",
       "      <th>44460</th>\n",
       "      <td>2018-06-01</td>\n",
       "      <td>New</td>\n",
       "      <td>TX</td>\n",
       "      <td>On Demand Delivery</td>\n",
       "      <td>HOUSTON</td>\n",
       "      <td>Web</td>\n",
       "      <td>NO_PROMO</td>\n",
       "      <td>false</td>\n",
       "      <td>0.0</td>\n",
       "      <td>6</td>\n",
       "      <td>238.45</td>\n",
       "    </tr>\n",
       "    <tr>\n",
       "      <th>974527</th>\n",
       "      <td>2018-06-01</td>\n",
       "      <td>Returning</td>\n",
       "      <td>CO</td>\n",
       "      <td>Scheduled Delivery</td>\n",
       "      <td>DENVER</td>\n",
       "      <td>iOS</td>\n",
       "      <td>NO_PROMO</td>\n",
       "      <td>false</td>\n",
       "      <td>0.0</td>\n",
       "      <td>7</td>\n",
       "      <td>433.29</td>\n",
       "    </tr>\n",
       "  </tbody>\n",
       "</table>\n",
       "</div>"
      ],
      "text/plain": [
       "        ORDER_DATE NEW_VS_RETURNING DELIVERY_STATE    FULFILLMENT_TYPE  \\\n",
       "44460   2018-06-01              New             TX  On Demand Delivery   \n",
       "974527  2018-06-01        Returning             CO  Scheduled Delivery   \n",
       "\n",
       "       DMA_NAME DEVICE_PLATFORM PROMO_USAGE GIFT_STATUS  PROMO_VALUE  \\\n",
       "44460   HOUSTON             Web    NO_PROMO       false          0.0   \n",
       "974527   DENVER             iOS    NO_PROMO       false          0.0   \n",
       "\n",
       "        TOTAL_ORDERS  PRODUCT_SUBTOTAL  \n",
       "44460              6            238.45  \n",
       "974527             7            433.29  "
      ]
     },
     "execution_count": 11,
     "metadata": {},
     "output_type": "execute_result"
    }
   ],
   "source": [
    "sales = pd.read_csv(\"../drizly_mmm/data/order_data.csv.gzip\", compression=\"gzip\")\n",
    "sales = sales.sort_values(by='ORDER_DATE')\n",
    "sales.head(2)"
   ]
  },
  {
   "cell_type": "code",
   "execution_count": 10,
   "id": "d0965aa3-f28e-48b3-952c-6bfc7caaedf3",
   "metadata": {
    "execution": {
     "iopub.execute_input": "2021-06-22T18:07:46.377975Z",
     "iopub.status.busy": "2021-06-22T18:07:46.377799Z",
     "iopub.status.idle": "2021-06-22T18:07:46.398572Z",
     "shell.execute_reply": "2021-06-22T18:07:46.397950Z",
     "shell.execute_reply.started": "2021-06-22T18:07:46.377959Z"
    },
    "tags": []
   },
   "outputs": [
    {
     "data": {
      "text/html": [
       "<div>\n",
       "<style scoped>\n",
       "    .dataframe tbody tr th:only-of-type {\n",
       "        vertical-align: middle;\n",
       "    }\n",
       "\n",
       "    .dataframe tbody tr th {\n",
       "        vertical-align: top;\n",
       "    }\n",
       "\n",
       "    .dataframe thead th {\n",
       "        text-align: right;\n",
       "    }\n",
       "</style>\n",
       "<table border=\"1\" class=\"dataframe\">\n",
       "  <thead>\n",
       "    <tr style=\"text-align: right;\">\n",
       "      <th></th>\n",
       "      <th>date</th>\n",
       "      <th>cost per view</th>\n",
       "      <th>spend</th>\n",
       "    </tr>\n",
       "  </thead>\n",
       "  <tbody>\n",
       "    <tr>\n",
       "      <th>0</th>\n",
       "      <td>11/9/20</td>\n",
       "      <td>0.19</td>\n",
       "      <td>51848.6</td>\n",
       "    </tr>\n",
       "    <tr>\n",
       "      <th>1</th>\n",
       "      <td>11/9/20</td>\n",
       "      <td>NaN</td>\n",
       "      <td>0.0</td>\n",
       "    </tr>\n",
       "  </tbody>\n",
       "</table>\n",
       "</div>"
      ],
      "text/plain": [
       "      date  cost per view    spend\n",
       "0  11/9/20           0.19  51848.6\n",
       "1  11/9/20            NaN      0.0"
      ]
     },
     "execution_count": 10,
     "metadata": {},
     "output_type": "execute_result"
    }
   ],
   "source": [
    "tv = pd.read_csv(\"../drizly_mmm/data/tv_spend.csv\")\n",
    "tv.head(2)"
   ]
  },
  {
   "cell_type": "code",
   "execution_count": 12,
   "id": "8fbea557-b291-4753-9bd7-294112d9ce09",
   "metadata": {
    "execution": {
     "iopub.execute_input": "2021-06-22T20:44:01.380096Z",
     "iopub.status.busy": "2021-06-22T20:44:01.379915Z",
     "iopub.status.idle": "2021-06-22T20:44:01.437687Z",
     "shell.execute_reply": "2021-06-22T20:44:01.437021Z",
     "shell.execute_reply.started": "2021-06-22T20:44:01.380078Z"
    }
   },
   "outputs": [
    {
     "data": {
      "text/html": [
       "<div>\n",
       "<style scoped>\n",
       "    .dataframe tbody tr th:only-of-type {\n",
       "        vertical-align: middle;\n",
       "    }\n",
       "\n",
       "    .dataframe tbody tr th {\n",
       "        vertical-align: top;\n",
       "    }\n",
       "\n",
       "    .dataframe thead th {\n",
       "        text-align: right;\n",
       "    }\n",
       "</style>\n",
       "<table border=\"1\" class=\"dataframe\">\n",
       "  <thead>\n",
       "    <tr style=\"text-align: right;\">\n",
       "      <th></th>\n",
       "      <th>DATE</th>\n",
       "      <th>ACCOUNT_HASH</th>\n",
       "      <th>CAMPAIGN_HASH</th>\n",
       "      <th>SPEND</th>\n",
       "      <th>REACH</th>\n",
       "      <th>IMPRESSIONS</th>\n",
       "      <th>CLICKS</th>\n",
       "    </tr>\n",
       "  </thead>\n",
       "  <tbody>\n",
       "    <tr>\n",
       "      <th>0</th>\n",
       "      <td>2018-05-12</td>\n",
       "      <td>16ea25f8c0c144495e236fe6444a9409</td>\n",
       "      <td>e4f12e96a39f511f0d27751c84ce15d9</td>\n",
       "      <td>1756.83</td>\n",
       "      <td>291072.0</td>\n",
       "      <td>330898.0</td>\n",
       "      <td>841.0</td>\n",
       "    </tr>\n",
       "    <tr>\n",
       "      <th>1</th>\n",
       "      <td>2018-05-13</td>\n",
       "      <td>7c7f7d568e4e262b1e09ee1431032e0b</td>\n",
       "      <td>35e19821aa320b28bf9054dae1420d22</td>\n",
       "      <td>2500.00</td>\n",
       "      <td>666953.0</td>\n",
       "      <td>697323.0</td>\n",
       "      <td>586.0</td>\n",
       "    </tr>\n",
       "  </tbody>\n",
       "</table>\n",
       "</div>"
      ],
      "text/plain": [
       "         DATE                      ACCOUNT_HASH  \\\n",
       "0  2018-05-12  16ea25f8c0c144495e236fe6444a9409   \n",
       "1  2018-05-13  7c7f7d568e4e262b1e09ee1431032e0b   \n",
       "\n",
       "                      CAMPAIGN_HASH    SPEND     REACH  IMPRESSIONS  CLICKS  \n",
       "0  e4f12e96a39f511f0d27751c84ce15d9  1756.83  291072.0     330898.0   841.0  \n",
       "1  35e19821aa320b28bf9054dae1420d22  2500.00  666953.0     697323.0   586.0  "
      ]
     },
     "execution_count": 12,
     "metadata": {},
     "output_type": "execute_result"
    }
   ],
   "source": [
    "fb = pd.read_csv(\"../drizly_mmm/data/collaborative_ad_data.csv\")\n",
    "fb.head(2)"
   ]
  },
  {
   "cell_type": "code",
   "execution_count": 13,
   "id": "71fd9670-abf1-450f-96e2-994ff5cc77d0",
   "metadata": {
    "execution": {
     "iopub.execute_input": "2021-06-22T23:36:27.732122Z",
     "iopub.status.busy": "2021-06-22T23:36:27.731912Z",
     "iopub.status.idle": "2021-06-22T23:36:27.758587Z",
     "shell.execute_reply": "2021-06-22T23:36:27.757720Z",
     "shell.execute_reply.started": "2021-06-22T23:36:27.732105Z"
    }
   },
   "outputs": [
    {
     "ename": "NameError",
     "evalue": "name 'hm' is not defined",
     "output_type": "error",
     "traceback": [
      "\u001b[0;31m---------------------------------------------------------------------------\u001b[0m",
      "\u001b[0;31mNameError\u001b[0m                                 Traceback (most recent call last)",
      "\u001b[0;32m<ipython-input-13-6d1aa08cd321>\u001b[0m in \u001b[0;36m<module>\u001b[0;34m\u001b[0m\n\u001b[0;32m----> 1\u001b[0;31m \u001b[0mhm\u001b[0m\u001b[0;34m\u001b[0m\u001b[0;34m\u001b[0m\u001b[0m\n\u001b[0m",
      "\u001b[0;31mNameError\u001b[0m: name 'hm' is not defined"
     ]
    }
   ],
   "source": [
    "if hm exists"
   ]
  },
  {
   "cell_type": "code",
   "execution_count": null,
   "id": "0a56b103-aaf8-4425-b126-15826901eb96",
   "metadata": {},
   "outputs": [],
   "source": []
  }
 ],
 "metadata": {
  "kernelspec": {
   "display_name": "Python 3",
   "language": "python",
   "name": "python3"
  },
  "language_info": {
   "codemirror_mode": {
    "name": "ipython",
    "version": 3
   },
   "file_extension": ".py",
   "mimetype": "text/x-python",
   "name": "python",
   "nbconvert_exporter": "python",
   "pygments_lexer": "ipython3",
   "version": "3.8.3"
  }
 },
 "nbformat": 4,
 "nbformat_minor": 5
}
