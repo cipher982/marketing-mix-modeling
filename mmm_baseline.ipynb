{
  "nbformat": 4,
  "nbformat_minor": 5,
  "metadata": {
    "kernelspec": {
      "display_name": "Python 3",
      "language": "python",
      "name": "python3"
    },
    "language_info": {
      "codemirror_mode": {
        "name": "ipython",
        "version": 3
      },
      "file_extension": ".py",
      "mimetype": "text/x-python",
      "name": "python",
      "nbconvert_exporter": "python",
      "pygments_lexer": "ipython3",
      "version": "3.8.3"
    },
    "colab": {
      "name": "mmm_baseline.ipynb",
      "provenance": [],
      "collapsed_sections": []
    }
  },
  "cells": [
    {
      "cell_type": "code",
      "metadata": {
        "colab": {
          "base_uri": "https://localhost:8080/"
        },
        "id": "VQyvd_-Qth6U",
        "outputId": "7f9e956c-70e2-4c50-de03-f44f97f07608"
      },
      "source": [
        "!git clone https://github.com/cipher982/marketing-mix-modeling.git\n",
        "!cp marketing-mix-modeling/funcs.py funcs.py"
      ],
      "id": "VQyvd_-Qth6U",
      "execution_count": 1,
      "outputs": [
        {
          "output_type": "stream",
          "text": [
            "Cloning into 'marketing-mix-modeling'...\n",
            "remote: Enumerating objects: 32, done.\u001b[K\n",
            "remote: Counting objects: 100% (32/32), done.\u001b[K\n",
            "remote: Compressing objects: 100% (26/26), done.\u001b[K\n",
            "remote: Total 32 (delta 9), reused 24 (delta 5), pack-reused 0\u001b[K\n",
            "Unpacking objects: 100% (32/32), done.\n"
          ],
          "name": "stdout"
        }
      ]
    },
    {
      "cell_type": "code",
      "metadata": {
        "execution": {
          "iopub.execute_input": "2021-06-23T02:00:34.651957Z",
          "iopub.status.busy": "2021-06-23T02:00:34.651792Z",
          "iopub.status.idle": "2021-06-23T02:00:35.801665Z",
          "shell.execute_reply": "2021-06-23T02:00:35.800863Z",
          "shell.execute_reply.started": "2021-06-23T02:00:34.651913Z"
        },
        "tags": [],
        "id": "159d42f0-7116-4585-aaef-a4212b68c5a1",
        "colab": {
          "base_uri": "https://localhost:8080/"
        },
        "outputId": "52782ee6-7d7f-4b0b-c892-e5944e616494"
      },
      "source": [
        "import warnings\n",
        "warnings.filterwarnings(\"ignore\")\n",
        "\n",
        "import numpy as np\n",
        "import pandas as pd\n",
        "from pandas.tseries.holiday import USFederalHolidayCalendar\n",
        "import sys\n",
        "import time\n",
        "from datetime import datetime\n",
        "from datetime import timedelta\n",
        "import matplotlib.pyplot as plt\n",
        "import seaborn as sns\n",
        "# get_ipython().run_line_magic('matplotlib', 'inline')\n",
        "\n",
        "from sklearn.ensemble import RandomForestRegressor\n",
        "from sklearn.model_selection import train_test_split\n",
        "from sklearn.metrics import mean_absolute_error as mae\n",
        "\n",
        "sns.color_palette(\"husl\")\n",
        "sns.set_style('darkgrid')\n",
        "\n",
        "import pystan\n",
        "import os\n",
        "import json\n",
        "import funcs\n",
        "\n",
        "%load_ext autoreload\n",
        "\n",
        "%autoreload 2"
      ],
      "id": "159d42f0-7116-4585-aaef-a4212b68c5a1",
      "execution_count": 4,
      "outputs": [
        {
          "output_type": "stream",
          "text": [
            "The autoreload extension is already loaded. To reload it, use:\n",
            "  %reload_ext autoreload\n"
          ],
          "name": "stdout"
        }
      ]
    },
    {
      "cell_type": "code",
      "metadata": {
        "id": "ZnFaGwxAOWNb"
      },
      "source": [
        "DATA_DIR = 'marketing-mix-modeling/data/'"
      ],
      "id": "ZnFaGwxAOWNb",
      "execution_count": 5,
      "outputs": []
    },
    {
      "cell_type": "code",
      "metadata": {
        "execution": {
          "iopub.execute_input": "2021-06-23T02:00:37.354498Z",
          "iopub.status.busy": "2021-06-23T02:00:37.354302Z",
          "iopub.status.idle": "2021-06-23T02:00:39.633895Z",
          "shell.execute_reply": "2021-06-23T02:00:39.633256Z",
          "shell.execute_reply.started": "2021-06-23T02:00:37.354482Z"
        },
        "tags": [],
        "id": "272c02e0-9969-4e5b-aa69-438402f4cdb1",
        "colab": {
          "base_uri": "https://localhost:8080/"
        },
        "outputId": "b450991b-dc17-4c0d-d5ce-260dae7f92b6"
      },
      "source": [
        "# Load measured data\n",
        "m_df = pd.read_csv(DATA_DIR+\"measured_ad_channel_data.csv\")\n",
        "m_df = m_df[m_df[\"channel\"] != \"Congrats  YOU FOUND ME!!!!\"]\n",
        "\n",
        "# extract weekly dates\n",
        "m_df = funcs.add_week_start(m_df, 'day')\n",
        "\n",
        "# get weekly media impressions\n",
        "m_imp = m_df.groupby([\"wk_strt_dt\",\"channel\"]).sum()['impressions'].reset_index()\n",
        "m_imp = m_imp.pivot(index='wk_strt_dt', columns=['channel'], values=['impressions'])\n",
        "m_imp = m_imp.droplevel(axis=1, level=0).reset_index()\n",
        "m_imp = m_imp.fillna(value=0)\n",
        "#m_imp.head(3)\n",
        "\n",
        "# get weekly media spend\n",
        "m_sp = m_df.groupby([\"wk_strt_dt\",\"channel\"]).sum()['spend'].reset_index()\n",
        "m_sp = m_sp.pivot(index='wk_strt_dt', columns=['channel'], values=['spend'])\n",
        "m_sp = m_sp.droplevel(axis=1, level=0).reset_index()\n",
        "m_sp = m_sp.fillna(value=0)\n",
        "#m_sp.head(3)\n",
        "\n",
        "# Get weekly sales\n",
        "sales = pd.read_csv(DATA_DIR+\"order_data.csv.gzip\", compression=\"gzip\")\n",
        "sales['date'] = pd.to_datetime(sales['ORDER_DATE'])\n",
        "sales['weekday'] = sales['date'].dt.weekday\n",
        "sales[\"wk_strt_dt\"] = sales['date'] - sales['weekday'] * timedelta(days=1)\n",
        "sales = pd.DataFrame(sales.groupby([\"wk_strt_dt\"]).sum()['PRODUCT_SUBTOTAL'])\n",
        "sales.columns = ['sales']\n",
        "\n",
        "# Get Facebook data\n",
        "fb = pd.read_csv(DATA_DIR+\"collaborative_ad_data.csv\")\n",
        "fb = funcs.add_week_start(fb, \"DATE\")\n",
        "fb = pd.DataFrame(fb.groupby([\"wk_strt_dt\"])['SPEND','IMPRESSIONS'].sum())\n",
        "fb.columns = ['Facebook_spnd','Facebook_imps']\n",
        "\n",
        "# Get TV data\n",
        "tv = pd.read_csv(DATA_DIR+\"tv_spend.csv\")\n",
        "tv.fillna(0, inplace=True)\n",
        "tv = funcs.add_week_start(tv, 'date')\n",
        "tv['tv_imps'] = tv['spend'] / tv['cost per view']\n",
        "tv = pd.DataFrame(tv.groupby(['wk_strt_dt'])['tv_imps','spend'].sum())\n",
        "tv.columns = ['tv_imps', 'tv_spnd']\n",
        "\n",
        "# Create holiday data\n",
        "dr = pd.date_range(start=sales.index.min(), end=sales.index.max())\n",
        "hldy_df = pd.DataFrame()\n",
        "hldy_df['date'] = dr\n",
        "\n",
        "cal = USFederalHolidayCalendar()\n",
        "holidays = cal.holidays(start=dr.min(), end=dr.max())\n",
        "hldy_df['holiday'] = hldy_df['date'].isin(holidays)\n",
        "\n",
        "hldy_df = funcs.add_week_start(hldy_df, 'date')\n",
        "hldy_df = pd.DataFrame(hldy_df.groupby([\"wk_strt_dt\"]).any()['holiday'])\n",
        "hldy_df = hldy_df.astype(int)\n",
        "print(\"Loaded all datasets.\")"
      ],
      "id": "272c02e0-9969-4e5b-aa69-438402f4cdb1",
      "execution_count": 6,
      "outputs": [
        {
          "output_type": "stream",
          "text": [
            "INFO:numexpr.utils:NumExpr defaulting to 2 threads.\n"
          ],
          "name": "stderr"
        },
        {
          "output_type": "stream",
          "text": [
            "Loaded all datasets.\n"
          ],
          "name": "stdout"
        }
      ]
    },
    {
      "cell_type": "code",
      "metadata": {
        "id": "OCqHH_BUMFiB"
      },
      "source": [
        "# Merge all data\n",
        "df = pd.merge(m_imp, m_sp, on='wk_strt_dt', suffixes=('_imps','_spnd'))\n",
        "df = pd.merge(df, hldy_df, left_on='wk_strt_dt', right_index=True)\n",
        "df = pd.merge(df, sales, left_on='wk_strt_dt', right_index=True)\n",
        "df = pd.merge(df, fb, left_on='wk_strt_dt', right_index=True)\n",
        "df = pd.merge(df, tv, left_on='wk_strt_dt', right_index=True, how='left')\n",
        "\n",
        "# set placeholder for seasonality\n",
        "df['seasonality'] = 1.0 \n",
        "\n",
        "# ensure no 0s in the data (bugs like them)\n",
        "df.fillna(value=0.0, inplace=True)\n",
        "df = df.replace(to_replace=0.0, value=1.0) "
      ],
      "id": "OCqHH_BUMFiB",
      "execution_count": 8,
      "outputs": []
    },
    {
      "cell_type": "code",
      "metadata": {
        "id": "jqnVEYxprlUS",
        "colab": {
          "base_uri": "https://localhost:8080/",
          "height": 609
        },
        "outputId": "690ed4c4-0b3e-4fd6-edf9-667243be9a67"
      },
      "source": [
        "sp_cols = [col for col in df.columns if '_spnd' in col]\n",
        "spend_df = df[sp_cols + ['sales']]\n",
        "\n",
        "# Setting X and y variables\n",
        "X = spend_df.loc[:, spend_df.columns != 'sales']\n",
        "y = spend_df['sales']\n",
        "# Building Random Forest model\n",
        "\n",
        "X_train, X_test, y_train, y_test = train_test_split(\n",
        "    X, \n",
        "    y, \n",
        "    test_size=.25, \n",
        "    random_state=0\n",
        ")\n",
        "model = RandomForestRegressor(random_state=1)\n",
        "model.fit(X_train, y_train)\n",
        "pred = model.predict(X_test)\n",
        "# Visualizing Feature Importance\n",
        "feat_importances = pd.Series(model.feature_importances_, index=X.columns)\n",
        "feat_importances.nlargest(25).plot(kind='barh',figsize=(10,10))"
      ],
      "id": "jqnVEYxprlUS",
      "execution_count": 9,
      "outputs": [
        {
          "output_type": "execute_result",
          "data": {
            "text/plain": [
              "<matplotlib.axes._subplots.AxesSubplot at 0x7fd71fd3ca50>"
            ]
          },
          "metadata": {
            "tags": []
          },
          "execution_count": 9
        },
        {
          "output_type": "display_data",
          "data": {
            "image/png": "[encoded data removed]",
            "text/plain": [
              "<Figure size 720x720 with 1 Axes>"
            ]
          },
          "metadata": {
            "tags": []
          }
        }
      ]
    },
    {
      "cell_type": "code",
      "metadata": {
        "id": "U5X4G_8MMHKx"
      },
      "source": [
        ""
      ],
      "id": "U5X4G_8MMHKx",
      "execution_count": null,
      "outputs": []
    }
  ]
}